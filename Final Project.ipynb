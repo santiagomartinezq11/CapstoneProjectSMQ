{
    "cells": [
        {
            "cell_type": "markdown",
            "metadata": {
                "collapsed": true
            },
            "source": "# Data Science Capstone Project"
        },
        {
            "cell_type": "markdown",
            "metadata": {},
            "source": "#### Author: Santiago Mart\u00ednez Quintero\n#### Civil Engineer"
        },
        {
            "cell_type": "markdown",
            "metadata": {},
            "source": "___"
        },
        {
            "cell_type": "markdown",
            "metadata": {},
            "source": "## Briefing Words\n\nData Science is a field were all businesses are or are goin to be involved now and in the upcoming years and trying to use it in its favor to solve problems. Is an competitive advantage in order to get better results and to make your ideas happen. Is a tool that we cannot dismiss.\n\nI started learning this field, because as a Civil Engineer, I have seen all the possibilities and oportunities that the construction sector has. It is really important if we want to succeed as a sector, be better and use all the tools that are helping the others. Of couse, as the *clich\u00e8* says, *Construction sector is years later than other sectors*. And I see it as an opportunity more than a problem. It is the right path.\n\nLet's use it!"
        },
        {
            "cell_type": "markdown",
            "metadata": {},
            "source": "___"
        },
        {
            "cell_type": "markdown",
            "metadata": {},
            "source": "## Table of Contents\n\n<div class=\"alert alert-block alert-info\" style=\"margin-top: 20px\">\n\n<font size = 3>\n\n1. <a href=\"#item3\">Introduction</a>\n\n2. <a href=\"#item2\">Data</a>\n\n3. <a href=\"#item3\">Methodology</a>\n\n4. <a href=\"#item4\">Results</a>\n\n5. <a href=\"#item5\">Discussion</a>    \n\n6. <a href=\"#item5\">Conclusion</a>    \n</font>\n</div>"
        },
        {
            "cell_type": "markdown",
            "metadata": {},
            "source": "## Introduction\n\nAccording to what we already said, Data Science is a very important field that is dveloped and is going to be in a good path in more sectors than the ones that now are already using this kind of analysis and decision making. Because of that, I am trying to improve construction and here is an example of what we could do, to have better decisions as construction managers.\n\nIn this Notebook, we will use the information of the Construction Projects that are being constructed in the City of Chicago and cluster them in order to forecast which ones are the best, because of the venues near them and predict which ones probably are going to have better sales and understand and identify, which zones are better to develop a housing construction project in that city.\n\nLots of project managers and builders, could and probably be interested in this kind of analysis because of it's value, not only for being ahead of the competece, but avoid reprocesses chosing the best locations and kind of projects that we are going to develope. And the analysis that we are going to see following, is just an small piece of what we can do."
        },
        {
            "cell_type": "markdown",
            "metadata": {},
            "source": "## Data\n\nNow, according to the problem explaied before, we are going to get al the information of the construction projects that are being developed in Chicago, USA. As it is important and very well done, all the infromation is of free access to the people and citizens and you can find it in the following link: https://data.cityofchicago.org/Community-Economic-Development/Affordable-Rental-Housing-Developments-Map/k3g7-7kgc .\n\nI am grateful that this information is free and I will use it for academic purposes in this Notebook as told before. \nFirst, we are going to examine the data to understand it. Second, we are going clean it if it is needed because of missing or wrong data. And finally, use the location of each project to put it in the Foursquare map, before starting with pre-processing the data.\n\nThe most important inormation that we are going to use, are the latitude and longitude coordinates, tha name and type of project and of course, the venues information that will come from Foursquare API."
        },
        {
            "cell_type": "code",
            "execution_count": null,
            "metadata": {},
            "outputs": [],
            "source": ""
        }
    ],
    "metadata": {
        "kernelspec": {
            "display_name": "Python 3.6",
            "language": "python",
            "name": "python3"
        },
        "language_info": {
            "codemirror_mode": {
                "name": "ipython",
                "version": 3
            },
            "file_extension": ".py",
            "mimetype": "text/x-python",
            "name": "python",
            "nbconvert_exporter": "python",
            "pygments_lexer": "ipython3",
            "version": "3.6.9"
        }
    },
    "nbformat": 4,
    "nbformat_minor": 1
}